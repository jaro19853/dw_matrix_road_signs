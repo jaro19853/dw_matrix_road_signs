{
  "nbformat": 4,
  "nbformat_minor": 0,
  "metadata": {
    "colab": {
      "name": "day5.ipynb",
      "provenance": [],
      "mount_file_id": "1SDmqt4f3uZpTakwLTtn0mcOXGePU7XyH",
      "authorship_tag": "ABX9TyM4xBsBMqb9ZWAKCo80nV1m",
      "include_colab_link": true
    },
    "kernelspec": {
      "name": "python3",
      "display_name": "Python 3"
    },
    "accelerator": "GPU"
  },
  "cells": [
    {
      "cell_type": "markdown",
      "metadata": {
        "id": "view-in-github",
        "colab_type": "text"
      },
      "source": [
        "<a href=\"https://colab.research.google.com/github/jaro19853/dw_matrix_road_signs/blob/master/day5.ipynb\" target=\"_parent\"><img src=\"https://colab.research.google.com/assets/colab-badge.svg\" alt=\"Open In Colab\"/></a>"
      ]
    },
    {
      "cell_type": "code",
      "metadata": {
        "id": "X_sULBO--88t",
        "colab_type": "code",
        "outputId": "47d06db7-2364-4ae9-f287-0debab7bd663",
        "colab": {
          "base_uri": "https://localhost:8080/",
          "height": 74
        }
      },
      "source": [
        "import datetime\n",
        "import os\n",
        "import matplotlib.pyplot as plt\n",
        "import numpy as np\n",
        "import pandas as pd\n",
        "import seaborn as sns\n",
        "\n",
        "from skimage import color, exposure\n",
        "\n",
        "from sklearn.metrics import accuracy_score\n",
        "\n",
        "import tensorflow as tf\n",
        "from tensorflow.keras.models import Sequential\n",
        "from tensorflow.keras.layers import Conv2D, MaxPool2D, Dense, Flatten, Dropout\n",
        "from tensorflow.keras.utils import to_categorical\n",
        "\n",
        "from hyperopt import hp, STATUS_OK, tpe, Trials, fmin\n",
        "\n",
        "sns.set()\n",
        "%load_ext tensorboard"
      ],
      "execution_count": 1,
      "outputs": [
        {
          "output_type": "stream",
          "text": [
            "/usr/local/lib/python3.6/dist-packages/statsmodels/tools/_testing.py:19: FutureWarning: pandas.util.testing is deprecated. Use the functions in the public API at pandas.testing instead.\n",
            "  import pandas.util.testing as tm\n"
          ],
          "name": "stderr"
        }
      ]
    },
    {
      "cell_type": "code",
      "metadata": {
        "id": "ttlbhekC_Fmi",
        "colab_type": "code",
        "outputId": "eecadf70-88fe-4ea0-af6c-fa9f98b43fea",
        "colab": {
          "base_uri": "https://localhost:8080/",
          "height": 35
        }
      },
      "source": [
        "cd '/content/drive/My Drive/Colab Notebooks/dw_matrix/matrix_three/dw_matrix_road_signs'"
      ],
      "execution_count": 2,
      "outputs": [
        {
          "output_type": "stream",
          "text": [
            "/content/drive/My Drive/Colab Notebooks/dw_matrix/matrix_three/dw_matrix_road_signs\n"
          ],
          "name": "stdout"
        }
      ]
    },
    {
      "cell_type": "code",
      "metadata": {
        "id": "6aImYRdE_lMv",
        "colab_type": "code",
        "colab": {}
      },
      "source": [
        "train_db = pd.read_pickle('data/train.p')\n",
        "test_db = pd.read_pickle('data/test.p')\n",
        "\n",
        "X_train, y_train = train_db['features'], train_db['labels']\n",
        "X_test, y_test = test_db['features'], test_db['labels']"
      ],
      "execution_count": 0,
      "outputs": []
    },
    {
      "cell_type": "code",
      "metadata": {
        "id": "NUWUgMAd_-3V",
        "colab_type": "code",
        "outputId": "d23a4f6d-9e1c-4e12-b161-4c8f5a90acc1",
        "colab": {
          "base_uri": "https://localhost:8080/",
          "height": 198
        }
      },
      "source": [
        "sign_names = pd.read_csv('data/signnames.csv')\n",
        "sign_names.head()"
      ],
      "execution_count": 4,
      "outputs": [
        {
          "output_type": "execute_result",
          "data": {
            "text/html": [
              "<div>\n",
              "<style scoped>\n",
              "    .dataframe tbody tr th:only-of-type {\n",
              "        vertical-align: middle;\n",
              "    }\n",
              "\n",
              "    .dataframe tbody tr th {\n",
              "        vertical-align: top;\n",
              "    }\n",
              "\n",
              "    .dataframe thead th {\n",
              "        text-align: right;\n",
              "    }\n",
              "</style>\n",
              "<table border=\"1\" class=\"dataframe\">\n",
              "  <thead>\n",
              "    <tr style=\"text-align: right;\">\n",
              "      <th></th>\n",
              "      <th>a</th>\n",
              "      <th>b</th>\n",
              "    </tr>\n",
              "  </thead>\n",
              "  <tbody>\n",
              "    <tr>\n",
              "      <th>0</th>\n",
              "      <td>0</td>\n",
              "      <td>Speed limit (20km/h)</td>\n",
              "    </tr>\n",
              "    <tr>\n",
              "      <th>1</th>\n",
              "      <td>1</td>\n",
              "      <td>Speed limit (30km/h)</td>\n",
              "    </tr>\n",
              "    <tr>\n",
              "      <th>2</th>\n",
              "      <td>2</td>\n",
              "      <td>Speed limit (50km/h)</td>\n",
              "    </tr>\n",
              "    <tr>\n",
              "      <th>3</th>\n",
              "      <td>3</td>\n",
              "      <td>Speed limit (60km/h)</td>\n",
              "    </tr>\n",
              "    <tr>\n",
              "      <th>4</th>\n",
              "      <td>4</td>\n",
              "      <td>Speed limit (70km/h)</td>\n",
              "    </tr>\n",
              "  </tbody>\n",
              "</table>\n",
              "</div>"
            ],
            "text/plain": [
              "   a                     b\n",
              "0  0  Speed limit (20km/h)\n",
              "1  1  Speed limit (30km/h)\n",
              "2  2  Speed limit (50km/h)\n",
              "3  3  Speed limit (60km/h)\n",
              "4  4  Speed limit (70km/h)"
            ]
          },
          "metadata": {
            "tags": []
          },
          "execution_count": 4
        }
      ]
    },
    {
      "cell_type": "code",
      "metadata": {
        "id": "s_IlL2bV__-u",
        "colab_type": "code",
        "colab": {}
      },
      "source": [
        "y_train = to_categorical(y_train)\n",
        "y_test = to_categorical(y_test)"
      ],
      "execution_count": 0,
      "outputs": []
    },
    {
      "cell_type": "code",
      "metadata": {
        "colab_type": "code",
        "id": "HCQl4YH5AFwy",
        "colab": {}
      },
      "source": [
        "\n",
        "input_shape = X_train.shape[1:]\n",
        "cat_num = y_train.shape[1]"
      ],
      "execution_count": 0,
      "outputs": []
    },
    {
      "cell_type": "code",
      "metadata": {
        "id": "OaHLDwxMAWAJ",
        "colab_type": "code",
        "outputId": "b254e491-748c-4ea5-85b8-74fe69207137",
        "colab": {
          "base_uri": "https://localhost:8080/",
          "height": 272
        }
      },
      "source": [
        "def get_cnn_v1(input_shape, cat_num, verbose=False):\n",
        "    model = Sequential([Conv2D(filters=64, kernel_size=(3, 3), activation='relu', input_shape=input_shape),\n",
        "                        Flatten(),\n",
        "                        Dense(cat_num, activation='softmax')])\n",
        "    if verbose:\n",
        "        model.summary()\n",
        "\n",
        "    return model\n",
        "\n",
        "\n",
        "cnn_v1 = get_cnn_v1(input_shape, cat_num, True)"
      ],
      "execution_count": 7,
      "outputs": [
        {
          "output_type": "stream",
          "text": [
            "Model: \"sequential\"\n",
            "_________________________________________________________________\n",
            "Layer (type)                 Output Shape              Param #   \n",
            "=================================================================\n",
            "conv2d (Conv2D)              (None, 30, 30, 64)        1792      \n",
            "_________________________________________________________________\n",
            "flatten (Flatten)            (None, 57600)             0         \n",
            "_________________________________________________________________\n",
            "dense (Dense)                (None, 43)                2476843   \n",
            "=================================================================\n",
            "Total params: 2,478,635\n",
            "Trainable params: 2,478,635\n",
            "Non-trainable params: 0\n",
            "_________________________________________________________________\n"
          ],
          "name": "stdout"
        }
      ]
    },
    {
      "cell_type": "code",
      "metadata": {
        "id": "MFCaqwuCAZpd",
        "colab_type": "code",
        "outputId": "885b8acd-719e-490e-b13c-9c337500f6b9",
        "colab": {
          "base_uri": "https://localhost:8080/",
          "height": 199
        }
      },
      "source": [
        "def train_model(model, X_train, y_train, params_fit=dict()):\n",
        "\n",
        "    logdir = os.path.join('logs', datetime.datetime.now().strftime('%Y%m%d_%H%M%S'))\n",
        "    tensorboard_callback = tf.keras.callbacks.TensorBoard(logdir, histogram_freq=1)\n",
        "\n",
        "    model.compile(loss='categorical_crossentropy', optimizer='Adam', metrics=['accuracy'])\n",
        "    model.fit(X_train, \n",
        "              y_train,\n",
        "              batch_size=params_fit.get('batch_size', 128),\n",
        "              epochs=params_fit.get('epochs', 5),\n",
        "              verbose=params_fit.get('verbose', 1),\n",
        "              validation_data=params_fit.get('validation_data', (X_train, y_train)),\n",
        "              callbacks=[tensorboard_callback])\n",
        "\n",
        "    return model\n",
        "\n",
        "model_trained = train_model(cnn_v1, X_train, y_train)\n"
      ],
      "execution_count": 8,
      "outputs": [
        {
          "output_type": "stream",
          "text": [
            "Epoch 1/5\n",
            "272/272 [==============================] - 3s 10ms/step - loss: 18.5461 - accuracy: 0.7573 - val_loss: 0.2326 - val_accuracy: 0.9470\n",
            "Epoch 2/5\n",
            "272/272 [==============================] - 2s 9ms/step - loss: 0.2024 - accuracy: 0.9551 - val_loss: 0.1295 - val_accuracy: 0.9746\n",
            "Epoch 3/5\n",
            "272/272 [==============================] - 2s 9ms/step - loss: 0.1414 - accuracy: 0.9674 - val_loss: 0.1163 - val_accuracy: 0.9718\n",
            "Epoch 4/5\n",
            "272/272 [==============================] - 2s 9ms/step - loss: 0.1032 - accuracy: 0.9776 - val_loss: 0.0716 - val_accuracy: 0.9857\n",
            "Epoch 5/5\n",
            "272/272 [==============================] - 2s 9ms/step - loss: 0.0774 - accuracy: 0.9825 - val_loss: 0.0726 - val_accuracy: 0.9825\n"
          ],
          "name": "stdout"
        }
      ]
    },
    {
      "cell_type": "code",
      "metadata": {
        "id": "0gpjnF8CAiJC",
        "colab_type": "code",
        "colab": {}
      },
      "source": [
        "def predict(model, X_test, y_test, scoring=accuracy_score):\n",
        "    y_test_norm = np.argmax(y_test, axis=1)\n",
        "    y_pred_prob = model.predict(X_test)\n",
        "    y_pred = np.argmax(y_pred_prob, axis=1)\n",
        "\n",
        "    return scoring(y_test_norm, y_pred)"
      ],
      "execution_count": 0,
      "outputs": []
    },
    {
      "cell_type": "code",
      "metadata": {
        "id": "-qpyHBz8AmuL",
        "colab_type": "code",
        "colab": {}
      },
      "source": [
        "def get_cnn(input_shape, cat_num):\n",
        "    model = Sequential([Conv2D(filters=32, kernel_size=(3, 3), activation='relu', input_shape=input_shape),\n",
        "                        Conv2D(filters=32, kernel_size=(3, 3), activation='relu', padding='same'),\n",
        "                        MaxPool2D(),\n",
        "                        Dropout(0.3),\n",
        "\n",
        "                        Conv2D(filters=64, kernel_size=(3, 3), activation='relu', padding='same'),\n",
        "                        Conv2D(filters=64, kernel_size=(3, 3), activation='relu'),\n",
        "                        MaxPool2D(),\n",
        "                        Dropout(0.3),\n",
        "\n",
        "                        Flatten(),\n",
        "\n",
        "                        Dense(1024, activation='relu'),\n",
        "                        Dropout(0.3),\n",
        "\n",
        "                        Dense(1024, activation='relu'),\n",
        "                        Dropout(0.3),\n",
        "\n",
        "                        Dense(cat_num, activation='softmax')])\n",
        "    return model"
      ],
      "execution_count": 0,
      "outputs": []
    },
    {
      "cell_type": "code",
      "metadata": {
        "id": "B779GuvGAs4t",
        "colab_type": "code",
        "colab": {}
      },
      "source": [
        "def train_and_predict(model, X_train, y_train, X_test, y_test):\n",
        "    model_trained = train_model(model, X_train, y_train)\n",
        "    return predict(model_trained, X_test, y_test)\n",
        "\n",
        "# train_and_predict(get_cnn(input_shape, cat_num), X_train, y_train, X_test, y_test)"
      ],
      "execution_count": 0,
      "outputs": []
    },
    {
      "cell_type": "code",
      "metadata": {
        "id": "eq-iga73Aw_P",
        "colab_type": "code",
        "colab": {}
      },
      "source": [
        "def get_model(input_shape, cat_num, params):\n",
        "    model = Sequential([Conv2D(filters=32, kernel_size=(3, 3), activation='relu', input_shape=input_shape),\n",
        "                        Conv2D(filters=32, kernel_size=(3, 3), activation='relu', padding='same'),\n",
        "                        MaxPool2D(),\n",
        "                        Dropout(params['dropout_cnn_0']),\n",
        "\n",
        "                        Conv2D(filters=64, kernel_size=(3, 3), activation='relu', padding='same'),\n",
        "                        Conv2D(filters=64, kernel_size=(3, 3), activation='relu'),\n",
        "                        MaxPool2D(),\n",
        "                        Dropout(params['dropout_cnn_1']),\n",
        "\n",
        "                        Conv2D(filters=128, kernel_size=(3, 3), activation='relu', padding='same'),\n",
        "                        Conv2D(filters=128, kernel_size=(3, 3), activation='relu'),\n",
        "                        MaxPool2D(),\n",
        "                        Dropout(params['dropout_cnn_2']),\n",
        "\n",
        "                        Flatten(),\n",
        "\n",
        "                        Dense(1024, activation='relu'),\n",
        "                        Dropout(params['dropout_dense_0']),\n",
        "\n",
        "                        Dense(1024, activation='relu'),\n",
        "                        Dropout(params['dropout_dense_1']),\n",
        "\n",
        "                        Dense(cat_num, activation='softmax')])\n",
        "    return model"
      ],
      "execution_count": 0,
      "outputs": []
    },
    {
      "cell_type": "code",
      "metadata": {
        "id": "g5pNAhxLA3Cm",
        "colab_type": "code",
        "colab": {}
      },
      "source": [
        "def func_obj(params):\n",
        "    model = get_model(input_shape, cat_num, params)\n",
        "    model.compile(loss='categorical_crossentropy', optimizer='Adam', metrics=['accuracy'])\n",
        "\n",
        "    model.fit(X_train, \n",
        "              y_train,\n",
        "              batch_size=int(params.get('batch_size', 128)),\n",
        "              epochs=params.get('epochs', 5),\n",
        "              verbose=params.get('verbose', 0)\n",
        "    )\n",
        "\n",
        "    score = model.evaluate(X_test, y_test, verbose=0)\n",
        "    accuracy = score[1]\n",
        "    print(f'params={params}')\n",
        "    print(f'accuracy={accuracy}')\n",
        "\n",
        "    return {'loss': -accuracy, 'status': STATUS_OK, 'model': model}"
      ],
      "execution_count": 0,
      "outputs": []
    },
    {
      "cell_type": "code",
      "metadata": {
        "id": "CZTbPszYA7Y9",
        "colab_type": "code",
        "colab": {}
      },
      "source": [
        "space = {\n",
        "    'batch_size': hp.quniform('batch_size', 100, 200, 10),\n",
        "    'dropout_cnn_0': hp.uniform('dropout_cnn_0', 0.3, 0.5),\n",
        "    'dropout_cnn_1': hp.uniform('dropout_cnn_1', 0.3, 0.5),\n",
        "    'dropout_cnn_2': hp.uniform('dropout_cnn_2', 0.3, 0.5),\n",
        "    'dropout_dense_0': hp.uniform('dropout_dense_0', 0.3, 0.7),\n",
        "    'dropout_dense_1': hp.uniform('dropout_dense_1', 0.3, 0.7),\n",
        "}"
      ],
      "execution_count": 0,
      "outputs": []
    },
    {
      "cell_type": "code",
      "metadata": {
        "id": "lp8UJy0pA-1D",
        "colab_type": "code",
        "outputId": "00574f5d-6fca-45f0-c864-0ede4f1001e9",
        "colab": {
          "base_uri": "https://localhost:8080/",
          "height": 1000
        }
      },
      "source": [
        "best = fmin(\n",
        "    func_obj,\n",
        "    space,\n",
        "    tpe.suggest,\n",
        "    30, \n",
        "    Trials()\n",
        ")"
      ],
      "execution_count": 15,
      "outputs": [
        {
          "output_type": "stream",
          "text": [
            "params={'batch_size': 110.0, 'dropout_cnn_0': 0.3007921336540637, 'dropout_cnn_1': 0.35444705867854315, 'dropout_cnn_2': 0.38609319143499704, 'dropout_dense_0': 0.6230053763675871, 'dropout_dense_1': 0.47158765767245947}\n",
            "accuracy=0.9369614720344543\n",
            "params={'batch_size': 150.0, 'dropout_cnn_0': 0.4057864951539986, 'dropout_cnn_1': 0.43620785779772764, 'dropout_cnn_2': 0.42758396053383596, 'dropout_dense_0': 0.6929232885785793, 'dropout_dense_1': 0.46969611591958016}\n",
            "accuracy=0.8142856955528259\n",
            "params={'batch_size': 140.0, 'dropout_cnn_0': 0.3045653835686916, 'dropout_cnn_1': 0.43957730527650307, 'dropout_cnn_2': 0.3745179949718148, 'dropout_dense_0': 0.4545352372556494, 'dropout_dense_1': 0.4457426488593522}\n",
            "accuracy=0.9591836929321289\n",
            "params={'batch_size': 190.0, 'dropout_cnn_0': 0.4033922126490792, 'dropout_cnn_1': 0.4561534940229903, 'dropout_cnn_2': 0.30395802575094916, 'dropout_dense_0': 0.5196102590506109, 'dropout_dense_1': 0.6789625146619552}\n",
            "accuracy=0.9179138541221619\n",
            "params={'batch_size': 110.0, 'dropout_cnn_0': 0.35980188131189217, 'dropout_cnn_1': 0.44791117564976524, 'dropout_cnn_2': 0.48703625534933703, 'dropout_dense_0': 0.39794500345641065, 'dropout_dense_1': 0.5921882434932537}\n",
            "accuracy=0.9081632494926453\n",
            "params={'batch_size': 120.0, 'dropout_cnn_0': 0.47850073852452496, 'dropout_cnn_1': 0.4037084505535844, 'dropout_cnn_2': 0.30950722798407193, 'dropout_dense_0': 0.39758055656076263, 'dropout_dense_1': 0.6491217296150453}\n",
            "accuracy=0.9566893577575684\n",
            "params={'batch_size': 190.0, 'dropout_cnn_0': 0.37551968151400283, 'dropout_cnn_1': 0.33592802232080193, 'dropout_cnn_2': 0.305085047229077, 'dropout_dense_0': 0.45939044642677374, 'dropout_dense_1': 0.3710615456289655}\n",
            "accuracy=0.9621315002441406\n",
            "params={'batch_size': 170.0, 'dropout_cnn_0': 0.3656300890860122, 'dropout_cnn_1': 0.49185197027501726, 'dropout_cnn_2': 0.4180572709752437, 'dropout_dense_0': 0.691779900697521, 'dropout_dense_1': 0.453235898303366}\n",
            "accuracy=0.899092972278595\n",
            "params={'batch_size': 160.0, 'dropout_cnn_0': 0.35197068909968016, 'dropout_cnn_1': 0.3534357604001021, 'dropout_cnn_2': 0.33854620866023144, 'dropout_dense_0': 0.6272683049202781, 'dropout_dense_1': 0.5138560812363716}\n",
            "accuracy=0.9625850319862366\n",
            "params={'batch_size': 190.0, 'dropout_cnn_0': 0.3481471231219073, 'dropout_cnn_1': 0.3693700931057962, 'dropout_cnn_2': 0.3462531223684437, 'dropout_dense_0': 0.5661955978397132, 'dropout_dense_1': 0.35240593663020214}\n",
            "accuracy=0.963718831539154\n",
            "params={'batch_size': 190.0, 'dropout_cnn_0': 0.48840641701243376, 'dropout_cnn_1': 0.3416263619414789, 'dropout_cnn_2': 0.33285424420824883, 'dropout_dense_0': 0.6680675977480102, 'dropout_dense_1': 0.5903862671620532}\n",
            "accuracy=0.8804988861083984\n",
            "params={'batch_size': 150.0, 'dropout_cnn_0': 0.412416331272965, 'dropout_cnn_1': 0.39537217862689383, 'dropout_cnn_2': 0.4279582439610423, 'dropout_dense_0': 0.3648147588048534, 'dropout_dense_1': 0.5065512883863856}\n",
            "accuracy=0.8435373902320862\n",
            "params={'batch_size': 180.0, 'dropout_cnn_0': 0.36627347191544957, 'dropout_cnn_1': 0.3018124150097377, 'dropout_cnn_2': 0.33789577736704435, 'dropout_dense_0': 0.5135225564009929, 'dropout_dense_1': 0.5553704746939152}\n",
            "accuracy=0.9741496443748474\n",
            "params={'batch_size': 180.0, 'dropout_cnn_0': 0.49287705143125865, 'dropout_cnn_1': 0.31382090121528977, 'dropout_cnn_2': 0.4231281565059747, 'dropout_dense_0': 0.6086057726908478, 'dropout_dense_1': 0.4619313217051286}\n",
            "accuracy=0.8335601091384888\n",
            "params={'batch_size': 120.0, 'dropout_cnn_0': 0.44013975453144516, 'dropout_cnn_1': 0.38146345520660935, 'dropout_cnn_2': 0.4290095310674077, 'dropout_dense_0': 0.43867214107914176, 'dropout_dense_1': 0.6939044462839303}\n",
            "accuracy=0.9174603223800659\n",
            "params={'batch_size': 180.0, 'dropout_cnn_0': 0.42700029869379696, 'dropout_cnn_1': 0.31974959421772325, 'dropout_cnn_2': 0.3896546393950132, 'dropout_dense_0': 0.4550650473860966, 'dropout_dense_1': 0.39841673689368207}\n",
            "accuracy=0.9557822942733765\n",
            "params={'batch_size': 100.0, 'dropout_cnn_0': 0.34013616094967947, 'dropout_cnn_1': 0.45045491717150704, 'dropout_cnn_2': 0.4247834755117787, 'dropout_dense_0': 0.3202044628830181, 'dropout_dense_1': 0.5750157655915225}\n",
            "accuracy=0.9519274234771729\n",
            "params={'batch_size': 190.0, 'dropout_cnn_0': 0.3941484566612946, 'dropout_cnn_1': 0.4013421975561351, 'dropout_cnn_2': 0.4259620147602363, 'dropout_dense_0': 0.48680052995347217, 'dropout_dense_1': 0.40209669838751544}\n",
            "accuracy=0.9501133561134338\n",
            "params={'batch_size': 110.0, 'dropout_cnn_0': 0.4253287725154017, 'dropout_cnn_1': 0.45081781371110785, 'dropout_cnn_2': 0.34985438966919463, 'dropout_dense_0': 0.4357106738569234, 'dropout_dense_1': 0.46665127887976987}\n",
            "accuracy=0.9430838823318481\n",
            "params={'batch_size': 180.0, 'dropout_cnn_0': 0.4604562791878263, 'dropout_cnn_1': 0.3283337671087442, 'dropout_cnn_2': 0.4239021912401937, 'dropout_dense_0': 0.3605482005074221, 'dropout_dense_1': 0.518807489999666}\n",
            "accuracy=0.882993221282959\n",
            "params={'batch_size': 200.0, 'dropout_cnn_0': 0.32612072643437395, 'dropout_cnn_1': 0.30223280642209654, 'dropout_cnn_2': 0.36651209709081556, 'dropout_dense_0': 0.5491393968731949, 'dropout_dense_1': 0.3275524181322328}\n",
            "accuracy=0.9648526310920715\n",
            "params={'batch_size': 170.0, 'dropout_cnn_0': 0.3255089223501834, 'dropout_cnn_1': 0.30637213560197085, 'dropout_cnn_2': 0.3674327430534188, 'dropout_dense_0': 0.5421408335025842, 'dropout_dense_1': 0.306225342840697}\n",
            "accuracy=0.9537414908409119\n",
            "params={'batch_size': 200.0, 'dropout_cnn_0': 0.32080675039016365, 'dropout_cnn_1': 0.4980671314085371, 'dropout_cnn_2': 0.32365629307440236, 'dropout_dense_0': 0.5886737339881905, 'dropout_dense_1': 0.5487853103330678}\n",
            "accuracy=0.8764172196388245\n",
            "params={'batch_size': 200.0, 'dropout_cnn_0': 0.3878606989511805, 'dropout_cnn_1': 0.3006137014723348, 'dropout_cnn_2': 0.3688907497078607, 'dropout_dense_0': 0.51486546215748, 'dropout_dense_1': 0.6382230696341736}\n",
            "accuracy=0.9265305995941162\n",
            "params={'batch_size': 170.0, 'dropout_cnn_0': 0.3291361367602644, 'dropout_cnn_1': 0.3024370813305162, 'dropout_cnn_2': 0.45393092569965393, 'dropout_dense_0': 0.5540130136978761, 'dropout_dense_1': 0.31563824371744614}\n",
            "accuracy=0.958730161190033\n",
            "params={'batch_size': 200.0, 'dropout_cnn_0': 0.3757112569400548, 'dropout_cnn_1': 0.3546987046757142, 'dropout_cnn_2': 0.3589323835993233, 'dropout_dense_0': 0.6531318962668313, 'dropout_dense_1': 0.546797009604225}\n",
            "accuracy=0.9065759778022766\n",
            "params={'batch_size': 140.0, 'dropout_cnn_0': 0.3146224889377396, 'dropout_cnn_1': 0.4185897097622475, 'dropout_cnn_2': 0.32246091923347936, 'dropout_dense_0': 0.4879510273750013, 'dropout_dense_1': 0.6429173358361832}\n",
            "accuracy=0.9535147547721863\n",
            "params={'batch_size': 160.0, 'dropout_cnn_0': 0.3391298576804639, 'dropout_cnn_1': 0.3241659982113358, 'dropout_cnn_2': 0.39015047092345795, 'dropout_dense_0': 0.5831468645986677, 'dropout_dense_1': 0.4198669861497599}\n",
            "accuracy=0.958276629447937\n",
            "params={'batch_size': 160.0, 'dropout_cnn_0': 0.31235728101874516, 'dropout_cnn_1': 0.4820179013331558, 'dropout_cnn_2': 0.380145337709191, 'dropout_dense_0': 0.5335273349209183, 'dropout_dense_1': 0.6167875048067031}\n",
            "accuracy=0.9399092793464661\n",
            "params={'batch_size': 200.0, 'dropout_cnn_0': 0.378058797254425, 'dropout_cnn_1': 0.34863526610930295, 'dropout_cnn_2': 0.40190432316579444, 'dropout_dense_0': 0.6219074700508265, 'dropout_dense_1': 0.5483059430263874}\n",
            "accuracy=0.774376392364502\n",
            "100%|██████████| 30/30 [05:16<00:00, 10.55s/it, best loss: -0.9741496443748474]\n"
          ],
          "name": "stdout"
        }
      ]
    },
    {
      "cell_type": "code",
      "metadata": {
        "id": "XQ_2ufPQBCS0",
        "colab_type": "code",
        "colab": {}
      },
      "source": [
        ""
      ],
      "execution_count": 0,
      "outputs": []
    }
  ]
}